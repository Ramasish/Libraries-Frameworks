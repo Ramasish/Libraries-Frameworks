{
 "cells": [
  {
   "cell_type": "code",
   "execution_count": 1,
   "id": "bc167f34-f8c6-457a-9d3e-9ec0d730ab73",
   "metadata": {},
   "outputs": [
    {
     "name": "stdout",
     "output_type": "stream",
     "text": [
      "     S.                Name of laboratories/establishments    Location  \\\n",
      "0   No.                                                NaN         NaN   \n",
      "1     1     Advanced Centre for Energetic Materials (ACEM)       Nasik   \n",
      "2     2  Advanced Numerical Research & Analysis Group (...   Hyderabad   \n",
      "3     3                  Advanced Systems Laboratory (ASL)   Hyderabad   \n",
      "4     4  Aerial Delivery Research & Development Establi...        Agra   \n",
      "..  ...                                                ...         ...   \n",
      "56   56      Snow and Avalanche Study Establishment (SASE)      Manali   \n",
      "57   57                                   SF Complex (SFC)   Jagdalpur   \n",
      "58   58              Solid State Physics Laboratory (SSPL)       Delhi   \n",
      "59   59     Terminal Ballistics Research Laboratory (TBRL)  Chandigarh   \n",
      "60   60  Vehicle Research & Development Establishment (...  Ahmednagar   \n",
      "\n",
      "                       Areas of Research  \n",
      "0                                    NaN  \n",
      "1                    Energetic Materials  \n",
      "2                  Computational Systems  \n",
      "3           Missiles & Strategic Systems  \n",
      "4            Parachutes & Aerial Systems  \n",
      "..                                   ...  \n",
      "56                    Snow and Avalanche  \n",
      "57                            Propellant  \n",
      "58  Solid State/ Semiconductor Materials  \n",
      "59                   Terminal Ballistics  \n",
      "60                      Wheeled Vehicles  \n",
      "\n",
      "[61 rows x 4 columns]\n"
     ]
    }
   ],
   "source": [
    "import pandas as pd\n",
    "data = pd.read_excel(\"DRDO database.xlsx\")\n",
    "print(data)"
   ]
  },
  {
   "cell_type": "code",
   "execution_count": 6,
   "id": "c8e2f0f5-b6e1-4dc7-b9d5-6f83c7efaa77",
   "metadata": {},
   "outputs": [
    {
     "name": "stdout",
     "output_type": "stream",
     "text": [
      "     S.                Name of laboratories/establishments    Location  \\\n",
      "0   No.                                                NaN         NaN   \n",
      "1     1     Advanced Centre for Energetic Materials (ACEM)       Nasik   \n",
      "2     2  Advanced Numerical Research & Analysis Group (...   Hyderabad   \n",
      "3     3                  Advanced Systems Laboratory (ASL)   Hyderabad   \n",
      "4     4  Aerial Delivery Research & Development Establi...        Agra   \n",
      "..  ...                                                ...         ...   \n",
      "56   56      Snow and Avalanche Study Establishment (SASE)      Manali   \n",
      "57   57                                   SF Complex (SFC)   Jagdalpur   \n",
      "58   58              Solid State Physics Laboratory (SSPL)       Delhi   \n",
      "59   59     Terminal Ballistics Research Laboratory (TBRL)  Chandigarh   \n",
      "60   60  Vehicle Research & Development Establishment (...  Ahmednagar   \n",
      "\n",
      "                       Areas of Research  \\\n",
      "0                                    NaN   \n",
      "1                    Energetic Materials   \n",
      "2                  Computational Systems   \n",
      "3           Missiles & Strategic Systems   \n",
      "4            Parachutes & Aerial Systems   \n",
      "..                                   ...   \n",
      "56                    Snow and Avalanche   \n",
      "57                            Propellant   \n",
      "58  Solid State/ Semiconductor Materials   \n",
      "59                   Terminal Ballistics   \n",
      "60                      Wheeled Vehicles   \n",
      "\n",
      "                                     full name  \n",
      "0                                          NaN  \n",
      "1                    Energetic materials Nasik  \n",
      "2              Computational systems Hyderabad  \n",
      "3       Missiles & strategic systems Hyderabad  \n",
      "4             Parachutes & aerial systems Agra  \n",
      "..                                         ...  \n",
      "56                   Snow and avalanche Manali  \n",
      "57                        Propellant Jagdalpur  \n",
      "58  Solid state/ semiconductor materials Delhi  \n",
      "59              Terminal ballistics Chandigarh  \n",
      "60                 Wheeled vehicles Ahmednagar  \n",
      "\n",
      "[61 rows x 5 columns]\n"
     ]
    }
   ],
   "source": [
    "data = pd.read_excel(\"DRDO database.xlsx\")\n",
    "data[\"full name\"] = data [\"Areas of Research\"].str.capitalize() + \" \" + data[\"Location\"]\n",
    "print(data)"
   ]
  },
  {
   "cell_type": "code",
   "execution_count": 8,
   "id": "1c6d9aa4-186d-42ce-a2d5-4ca8cc39c03f",
   "metadata": {},
   "outputs": [
    {
     "name": "stdout",
     "output_type": "stream",
     "text": [
      "     months short\n",
      "0   January   Jan\n",
      "1  February   Feb\n",
      "2     March   Mar\n",
      "3     April   Apr\n"
     ]
    }
   ],
   "source": [
    "data = {\"months\":[\"January\",\"February\",\"March\",\"April\"]}\n",
    "a = pd.DataFrame(data)\n",
    "def extract (string):\n",
    "    return string[0:3]\n",
    "a[\"short\"] = a[\"months\"].map(extract) \n",
    "print(a)"
   ]
  },
  {
   "cell_type": "code",
   "execution_count": 14,
   "id": "cde200e1-0894-456c-bb94-bb276a3e891a",
   "metadata": {},
   "outputs": [
    {
     "name": "stdout",
     "output_type": "stream",
     "text": [
      "               Areas of Research\n",
      "Location                        \n",
      "Agra                           1\n",
      "Ahmednagar                     1\n",
      "Ambernath                      1\n",
      "Avadi                          1\n",
      "Balasore                       2\n",
      "Bengaluru                      9\n",
      "Chandigarh                     1\n",
      "Chennai                        1\n",
      "Cochin                         1\n",
      "Dehradun                       2\n",
      "Delhi                         13\n",
      "Gwalior                        1\n",
      "Haldwani                       1\n",
      "Hyderabad                      8\n",
      "Jagdalpur                      1\n",
      "Jodhpur                        1\n",
      "Kanpur                         1\n",
      "Kolkata                        1\n",
      "Leh                            1\n",
      "Manali                         1\n",
      "Mussoorie                      1\n",
      "Mysore                         1\n",
      "Nasik                          1\n",
      "Panagarh                       1\n",
      "Pune                           5\n",
      "Tezpur                         1\n",
      "Visakhapatnam                  1\n"
     ]
    }
   ],
   "source": [
    "data = pd.read_excel(\"DRDO database.xlsx\")\n",
    "gp = data.groupby([\"Location\"]).agg({\"Areas of Research\":\"count\"})\n",
    "print(gp)"
   ]
  },
  {
   "cell_type": "code",
   "execution_count": 17,
   "id": "84beb233-0ac1-4863-87bd-81422cb2338c",
   "metadata": {},
   "outputs": [
    {
     "name": "stdout",
     "output_type": "stream",
     "text": [
      "  emp id   name  age\n",
      "0     e1    ram   34\n",
      "1     e2  shyam   45\n",
      "2     e3    raj   56\n",
      "3     e4    joy   33\n",
      "4     e5  asish   22\n",
      "5     e6  rahul   21\n",
      "\n",
      "  emp id  salary\n",
      "0     e1   45000\n",
      "1     e2   67000\n",
      "2     e3   56000\n",
      "3     e4   88000\n",
      "4     e5   33000\n",
      "5     e6   88000\n",
      "  emp id   name  age  salary\n",
      "0     e1    ram   34   45000\n",
      "1     e2  shyam   45   67000\n",
      "2     e3    raj   56   56000\n",
      "3     e4    joy   33   88000\n",
      "4     e5  asish   22   33000\n",
      "5     e6  rahul   21   88000\n"
     ]
    }
   ],
   "source": [
    "data1 = {\"emp id\":[\"e1\",\"e2\",\"e3\",\"e4\",\"e5\",\"e6\"],\"name\":[\"ram\",\"shyam\",\"raj\",\"joy\",\"asish\",\"rahul\"],\"age\":[34,45,56,33,22,21]}\n",
    "\n",
    "data2 = {\"emp id\":[\"e1\",\"e2\",\"e3\",\"e4\",\"e5\",\"e6\"],\"salary\":[45000,67000,56000,88000,33000,88000]}\n",
    "\n",
    "df1 = pd.DataFrame(data1)\n",
    "df2 = pd.DataFrame(data2)\n",
    "print(df1)\n",
    "print()\n",
    "print(df2)\n",
    "print(pd.merge(df1,df2,on = \"emp id\"))\n"
   ]
  },
  {
   "cell_type": "code",
   "execution_count": null,
   "id": "a5a797ec-9d94-411a-ac1a-b253bfa86ace",
   "metadata": {},
   "outputs": [],
   "source": []
  }
 ],
 "metadata": {
  "kernelspec": {
   "display_name": "Python 3 (ipykernel)",
   "language": "python",
   "name": "python3"
  },
  "language_info": {
   "codemirror_mode": {
    "name": "ipython",
    "version": 3
   },
   "file_extension": ".py",
   "mimetype": "text/x-python",
   "name": "python",
   "nbconvert_exporter": "python",
   "pygments_lexer": "ipython3",
   "version": "3.12.1"
  }
 },
 "nbformat": 4,
 "nbformat_minor": 5
}

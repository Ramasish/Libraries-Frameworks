{
 "cells": [
  {
   "cell_type": "code",
   "execution_count": 1,
   "id": "bf0aa3cb-5f15-403b-acb3-b2b706f39b68",
   "metadata": {},
   "outputs": [
    {
     "name": "stdout",
     "output_type": "stream",
     "text": [
      "    name  age  salary\n",
      "0   john   25  300000\n",
      "1  peter   28   45000\n",
      "2   lisa   21   25000\n"
     ]
    }
   ],
   "source": [
    "import pandas as pd\n",
    "data = {\"name\":[\"john\",\"peter\",\"lisa\"],\"age\":[25,28,21],\"salary\":[300000,45000,25000]}\n",
    "df = pd.DataFrame(data)\n",
    "print(df)"
   ]
  },
  {
   "cell_type": "code",
   "execution_count": null,
   "id": "ab526fc7-4bd7-4106-ae9a-c005d5c457c3",
   "metadata": {},
   "outputs": [],
   "source": [
    "# for reading a csv file :\n",
    "# data = pd.read_csv (\"file name\")\n",
    "#for reading an excel file :\n",
    "# data = pd.read_excel(\"file name\")"
   ]
  },
  {
   "cell_type": "code",
   "execution_count": 5,
   "id": "2b0bbae0-2aa3-4d75-833c-2d9642addae3",
   "metadata": {},
   "outputs": [
    {
     "name": "stdout",
     "output_type": "stream",
     "text": [
      "    S.                Name of laboratories/establishments   Location  \\\n",
      "0  No.                                                NaN        NaN   \n",
      "1    1     Advanced Centre for Energetic Materials (ACEM)      Nasik   \n",
      "2    2  Advanced Numerical Research & Analysis Group (...  Hyderabad   \n",
      "3    3                  Advanced Systems Laboratory (ASL)  Hyderabad   \n",
      "4    4  Aerial Delivery Research & Development Establi...       Agra   \n",
      "5    5       Aeronautical Development Establishment (ADE)  Bengaluru   \n",
      "6    6  Armament Research & Development Establishment ...       Pune   \n",
      "7    7                 Centre for Air Borne System (CABS)  Bengaluru   \n",
      "8    8  Centre for Artificial Intelligence & Robotics ...  Bengaluru   \n",
      "9    9                  Centre for Advanced Systems (CAS)  Hyderabad   \n",
      "\n",
      "                    Areas of Research  \n",
      "0                                 NaN  \n",
      "1                 Energetic Materials  \n",
      "2               Computational Systems  \n",
      "3        Missiles & Strategic Systems  \n",
      "4         Parachutes & Aerial Systems  \n",
      "5                         Aeronautics  \n",
      "6                           Armaments  \n",
      "7                   Air Borne Systems  \n",
      "8  Artificial Intelligence & Robotics  \n",
      "9     Integration of Strategic System  \n",
      "    S.                Name of laboratories/establishments    Location  \\\n",
      "51  51            Recruitment and Assessment Center (RAC)       Delhi   \n",
      "52  52                       Research Centre Imarat (RCI)   Hyderabad   \n",
      "53  53  Research & Development Establishment (Engrs) [...        Pune   \n",
      "54  54            DRDO Research & Innovation Centre (RIC)     Chennai   \n",
      "55  55                    Scientific Analysis Group (SAG)       Delhi   \n",
      "56  56      Snow and Avalanche Study Establishment (SASE)      Manali   \n",
      "57  57                                   SF Complex (SFC)   Jagdalpur   \n",
      "58  58              Solid State Physics Laboratory (SSPL)       Delhi   \n",
      "59  59     Terminal Ballistics Research Laboratory (TBRL)  Chandigarh   \n",
      "60  60  Vehicle Research & Development Establishment (...  Ahmednagar   \n",
      "\n",
      "                         Areas of Research  \n",
      "51                          Human Resource  \n",
      "52            Missiles & Strategic Systems  \n",
      "53  Engineering Systems & Weapon Platforms  \n",
      "54                  Accreditation Projects  \n",
      "55                              Cryptology  \n",
      "56                      Snow and Avalanche  \n",
      "57                              Propellant  \n",
      "58    Solid State/ Semiconductor Materials  \n",
      "59                     Terminal Ballistics  \n",
      "60                        Wheeled Vehicles  \n"
     ]
    }
   ],
   "source": [
    "data = pd.read_excel(\"DRDO database.xlsx\")\n",
    "#print(data)\n",
    "print(data.head(10))\n",
    "print(data.tail(10))\n",
    "print(data.info)"
   ]
  },
  {
   "cell_type": "code",
   "execution_count": 7,
   "id": "67fa82e9-4341-48e0-9801-590d5f5a1783",
   "metadata": {},
   "outputs": [
    {
     "name": "stdout",
     "output_type": "stream",
     "text": [
      "<class 'pandas.core.frame.DataFrame'>\n",
      "RangeIndex: 61 entries, 0 to 60\n",
      "Data columns (total 4 columns):\n",
      " #   Column                               Non-Null Count  Dtype \n",
      "---  ------                               --------------  ----- \n",
      " 0   S.                                   61 non-null     object\n",
      " 1   Name of laboratories/establishments  60 non-null     object\n",
      " 2   Location                             60 non-null     object\n",
      " 3   Areas of Research                    60 non-null     object\n",
      "dtypes: object(4)\n",
      "memory usage: 2.0+ KB\n",
      "None\n"
     ]
    }
   ],
   "source": [
    "data = pd.read_excel(\"DRDO database.xlsx\")\n",
    "print(data.info())"
   ]
  },
  {
   "cell_type": "code",
   "execution_count": 8,
   "id": "a984df10-d72b-423a-b682-a4fc60290d6e",
   "metadata": {},
   "outputs": [
    {
     "data": {
      "text/html": [
       "<div>\n",
       "<style scoped>\n",
       "    .dataframe tbody tr th:only-of-type {\n",
       "        vertical-align: middle;\n",
       "    }\n",
       "\n",
       "    .dataframe tbody tr th {\n",
       "        vertical-align: top;\n",
       "    }\n",
       "\n",
       "    .dataframe thead th {\n",
       "        text-align: right;\n",
       "    }\n",
       "</style>\n",
       "<table border=\"1\" class=\"dataframe\">\n",
       "  <thead>\n",
       "    <tr style=\"text-align: right;\">\n",
       "      <th></th>\n",
       "      <th>S.</th>\n",
       "      <th>Name of laboratories/establishments</th>\n",
       "      <th>Location</th>\n",
       "      <th>Areas of Research</th>\n",
       "    </tr>\n",
       "  </thead>\n",
       "  <tbody>\n",
       "    <tr>\n",
       "      <th>count</th>\n",
       "      <td>61</td>\n",
       "      <td>60</td>\n",
       "      <td>60</td>\n",
       "      <td>60</td>\n",
       "    </tr>\n",
       "    <tr>\n",
       "      <th>unique</th>\n",
       "      <td>61</td>\n",
       "      <td>60</td>\n",
       "      <td>27</td>\n",
       "      <td>56</td>\n",
       "    </tr>\n",
       "    <tr>\n",
       "      <th>top</th>\n",
       "      <td>No.</td>\n",
       "      <td>Advanced Centre for Energetic Materials (ACEM)</td>\n",
       "      <td>Delhi</td>\n",
       "      <td>Missiles &amp; Strategic Systems</td>\n",
       "    </tr>\n",
       "    <tr>\n",
       "      <th>freq</th>\n",
       "      <td>1</td>\n",
       "      <td>1</td>\n",
       "      <td>13</td>\n",
       "      <td>4</td>\n",
       "    </tr>\n",
       "  </tbody>\n",
       "</table>\n",
       "</div>"
      ],
      "text/plain": [
       "         S.             Name of laboratories/establishments Location  \\\n",
       "count    61                                              60       60   \n",
       "unique   61                                              60       27   \n",
       "top     No.  Advanced Centre for Energetic Materials (ACEM)    Delhi   \n",
       "freq      1                                               1       13   \n",
       "\n",
       "                   Areas of Research  \n",
       "count                             60  \n",
       "unique                            56  \n",
       "top     Missiles & Strategic Systems  \n",
       "freq                               4  "
      ]
     },
     "execution_count": 8,
     "metadata": {},
     "output_type": "execute_result"
    }
   ],
   "source": [
    "data.describe()"
   ]
  },
  {
   "cell_type": "code",
   "execution_count": 9,
   "id": "786130eb-6b2f-43e4-9cfa-0b67087b5412",
   "metadata": {},
   "outputs": [
    {
     "name": "stdout",
     "output_type": "stream",
     "text": [
      "S.                                     0\n",
      "Name of laboratories/establishments    1\n",
      "Location                               1\n",
      "Areas of Research                      1\n",
      "dtype: int64\n"
     ]
    }
   ],
   "source": [
    "print(data.isnull().sum())"
   ]
  },
  {
   "cell_type": "code",
   "execution_count": 13,
   "id": "0e606ef2-aecf-413e-adb4-76faa5de0984",
   "metadata": {},
   "outputs": [
    {
     "name": "stdout",
     "output_type": "stream",
     "text": [
      "33\n",
      "     S.                Name of laboratories/establishments       Location  \\\n",
      "0   No.                                                NaN            NaN   \n",
      "1     1     Advanced Centre for Energetic Materials (ACEM)          Nasik   \n",
      "2     2  Advanced Numerical Research & Analysis Group (...      Hyderabad   \n",
      "4     4  Aerial Delivery Research & Development Establi...           Agra   \n",
      "5     5       Aeronautical Development Establishment (ADE)      Bengaluru   \n",
      "6     6  Armament Research & Development Establishment ...           Pune   \n",
      "11   11    Centre for Personnel Talent Management (CEPTAM)          Delhi   \n",
      "14   14  Centre for Millimeter Wave Semiconductor Devic...        Kolkata   \n",
      "15   15  Combat Vehicles Research & Development Establi...          Avadi   \n",
      "18   18  Defence Electronics Applications Laboratory (D...       Dehradun   \n",
      "20   20            Defence Food Research Laboratory (DFRL)         Mysore   \n",
      "21   21   Defence Institute of Bio-Energy Research (DIBER)       Haldwani   \n",
      "22   22                      DRDO Integration Centre (DIC)       Panagarh   \n",
      "23   23  Defence Institute of High Altitude Research (D...            Leh   \n",
      "26   26                            Defence Laboratory (DL)        Jodhpur   \n",
      "28   28  Defence Materials & Stores R&D  Establishment ...         Kanpur   \n",
      "30   30  Defence Research & Development Establishment (...        Gwalior   \n",
      "32   32                  Defence Research Laboratory (DRL)         Tezpur   \n",
      "38   38           Institute of Technology Management (ITM)      Mussoorie   \n",
      "40   40                        Integrated Test Range (ITR)       Balasore   \n",
      "47   47         Naval Materials Research Laboratory (NMRL)      Ambernath   \n",
      "48   48   Naval Physical & Oceanographic Laboratory (NPOL)         Cochin   \n",
      "49   49    Naval Science & Technological Laboratory (NSTL)  Visakhapatnam   \n",
      "54   54            DRDO Research & Innovation Centre (RIC)        Chennai   \n",
      "56   56      Snow and Avalanche Study Establishment (SASE)         Manali   \n",
      "57   57                                   SF Complex (SFC)      Jagdalpur   \n",
      "59   59     Terminal Ballistics Research Laboratory (TBRL)     Chandigarh   \n",
      "60   60  Vehicle Research & Development Establishment (...     Ahmednagar   \n",
      "\n",
      "                               Areas of Research  \n",
      "0                                            NaN  \n",
      "1                            Energetic Materials  \n",
      "2                          Computational Systems  \n",
      "4                    Parachutes & Aerial Systems  \n",
      "5                                    Aeronautics  \n",
      "6                                      Armaments  \n",
      "11                          Personnel Management  \n",
      "14  Millimeter Wave Semiconductor Devices (MWSD)  \n",
      "15                               Combat Vehicles  \n",
      "18           Electronics & Communication Systems  \n",
      "20                                 Food Research  \n",
      "21                           Bio-Energy Research  \n",
      "22               Integration of Strategic System  \n",
      "23            High Altitude Agro-animal Research  \n",
      "26                     Camouflaging and Isotopes  \n",
      "28                Textile, Polymers & Composites  \n",
      "30                 Chemical & Biological Warfare  \n",
      "32                              Health & Hygiene  \n",
      "38                         Technology Management  \n",
      "40                  Missiles & Strategic Systems  \n",
      "47               Corrosion Preventive Technology  \n",
      "48                                 Naval Systems  \n",
      "49                            Underwater Weapons  \n",
      "54                        Accreditation Projects  \n",
      "56                            Snow and Avalanche  \n",
      "57                                    Propellant  \n",
      "59                           Terminal Ballistics  \n",
      "60                              Wheeled Vehicles  \n"
     ]
    }
   ],
   "source": [
    "print(data[\"Location\"].duplicated().sum())\n",
    "print(data.drop_duplicates(\"Location\"))"
   ]
  },
  {
   "cell_type": "code",
   "execution_count": null,
   "id": "a8eda8e5-8b08-431e-b255-c38da1475f4a",
   "metadata": {},
   "outputs": [],
   "source": []
  }
 ],
 "metadata": {
  "kernelspec": {
   "display_name": "Python 3 (ipykernel)",
   "language": "python",
   "name": "python3"
  },
  "language_info": {
   "codemirror_mode": {
    "name": "ipython",
    "version": 3
   },
   "file_extension": ".py",
   "mimetype": "text/x-python",
   "name": "python",
   "nbconvert_exporter": "python",
   "pygments_lexer": "ipython3",
   "version": "3.12.1"
  }
 },
 "nbformat": 4,
 "nbformat_minor": 5
}

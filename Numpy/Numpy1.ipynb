{
 "cells": [
  {
   "cell_type": "code",
   "execution_count": 9,
   "id": "4e04ec8a-3c54-43a6-9675-aa5cc792074b",
   "metadata": {},
   "outputs": [
    {
     "name": "stdout",
     "output_type": "stream",
     "text": [
      "[[10 20 40 20]\n",
      " [10 30 40 50]]\n",
      "(2, 4)\n",
      "2\n",
      "8\n",
      "<class 'numpy.ndarray'>\n",
      "[[10. 20. 40. 20.]\n",
      " [10. 30. 40. 50.]]\n"
     ]
    }
   ],
   "source": [
    "import numpy as np\n",
    "a = [[10,20,40,20],[10,30,40,50]]\n",
    "arr=np.array(a)\n",
    "print(arr)\n",
    "print(arr.shape)\n",
    "print(len(arr))\n",
    "print(np.size(arr))\n",
    "print(type(arr))\n",
    "print(arr.astype(float))\n"
   ]
  },
  {
   "cell_type": "code",
   "execution_count": 15,
   "id": "af35822d-d519-435d-8801-f7edcea1096b",
   "metadata": {},
   "outputs": [
    {
     "name": "stdout",
     "output_type": "stream",
     "text": [
      "[5 6 9 3]\n",
      "[5 6 9 3]\n",
      "[1 2 3 1]\n",
      "[  9  16 216   2]\n",
      "[1.73205081 2.         2.44948974 1.41421356]\n"
     ]
    }
   ],
   "source": [
    "arr1 = np.array ([3,4,6,2])\n",
    "arr2 = np.array([2,2,3,1])\n",
    "print(arr1+arr2)\n",
    "print(np.add(arr1,arr2))\n",
    "print(arr1-arr2)\n",
    "print(np.power(arr1,arr2))\n",
    "print(np.sqrt(arr1))"
   ]
  },
  {
   "cell_type": "code",
   "execution_count": 16,
   "id": "92151d79-5882-492d-b3af-5a9d7d60ff51",
   "metadata": {},
   "outputs": [
    {
     "name": "stdout",
     "output_type": "stream",
     "text": [
      "[3 4 6 2 2 2 3 1]\n"
     ]
    }
   ],
   "source": [
    "arr1 = np.array ([3,4,6,2])\n",
    "arr2 = np.array([2,2,3,1])\n",
    "print(np.concatenate([arr1,arr2]))"
   ]
  },
  {
   "cell_type": "code",
   "execution_count": 22,
   "id": "4ebf0480-413a-4f6d-b2f5-53153aee22d4",
   "metadata": {},
   "outputs": [
    {
     "name": "stdout",
     "output_type": "stream",
     "text": [
      "[[ 3  4  6  2  2  2  3  1]\n",
      " [20 22 33 11  2  4  5 11]]\n",
      "[[ 3  4  6  2]\n",
      " [20 22 33 11]\n",
      " [ 2  2  3  1]\n",
      " [ 2  4  5 11]]\n"
     ]
    }
   ],
   "source": [
    "arr1 = np.array ([[3,4,6,2],[20,22,33,11]])\n",
    "arr2 = np.array([[2,2,3,1],[2,4,5,11]])\n",
    "print(np.concatenate([arr1,arr2], axis=1))\n",
    "print(np.concatenate([arr1,arr2], axis=0))"
   ]
  },
  {
   "cell_type": "code",
   "execution_count": 25,
   "id": "fcddc0ec-ba64-4edb-897c-03482c9ec796",
   "metadata": {},
   "outputs": [
    {
     "name": "stdout",
     "output_type": "stream",
     "text": [
      "[array([3, 4]), array([6, 2]), array([20, 22]), array([33, 11])]\n"
     ]
    }
   ],
   "source": [
    "arr1 = np.array ([3,4,6,2,20,22,33,11])\n",
    "b = np.array_split (arr1,4)\n",
    "print(b)"
   ]
  },
  {
   "cell_type": "code",
   "execution_count": 34,
   "id": "d31b51cb-b611-439d-979c-d7dc6e9b47a8",
   "metadata": {},
   "outputs": [
    {
     "name": "stdout",
     "output_type": "stream",
     "text": [
      "[ 3  4  6  2 20 22 33 11 10 20]\n",
      "[[ 3  4  6  2]\n",
      " [20  3  2  4]\n",
      " [20 22 33 11]]\n",
      "[[ 3 20  4  6  2]\n",
      " [20 20 22 33 11]]\n"
     ]
    }
   ],
   "source": [
    "a = np.array ([[3,4,6,2],[20,22,33,11]])\n",
    "print (np.append(a,[10,20]))\n",
    "print (np.insert(a,1,[20,3,2,4],axis =0))\n",
    "print (np.insert(a,1,[20],axis =1))"
   ]
  },
  {
   "cell_type": "code",
   "execution_count": 35,
   "id": "ff395a20-9900-4399-8bf1-a0741f209aa0",
   "metadata": {},
   "outputs": [
    {
     "name": "stdout",
     "output_type": "stream",
     "text": [
      "[ 2  3  4  6 11 20 22 33]\n"
     ]
    }
   ],
   "source": [
    "arr1 = np.array ([3,4,6,2,20,22,33,11])\n",
    "print(np.sort(arr1))"
   ]
  },
  {
   "cell_type": "code",
   "execution_count": 41,
   "id": "b900103c-9466-4d08-9d63-e595275a0197",
   "metadata": {},
   "outputs": [
    {
     "name": "stdout",
     "output_type": "stream",
     "text": [
      "[ 2  3  4  6 11 20 22 33]\n",
      "(array([1, 2, 3, 4, 5]),)\n",
      "[33]\n"
     ]
    }
   ],
   "source": [
    "arr1 = np.array ([3,4,6,2,20,22,33,11])\n",
    "print(np.sort(arr1))\n",
    "s = np.where (arr1 %2== 0)\n",
    "print(s)\n",
    "fa = arr1>22\n",
    "new = arr1[fa]\n",
    "print(new)"
   ]
  },
  {
   "cell_type": "code",
   "execution_count": 46,
   "id": "90de8279-ef23-4585-8066-dd04bae6c974",
   "metadata": {},
   "outputs": [
    {
     "name": "stdout",
     "output_type": "stream",
     "text": [
      "101\n",
      "2\n",
      "12.625\n",
      "[  3   7  13  15  35  57  90 101]\n",
      "[       3       12       72      144     2880    63360  2090880 22999680]\n"
     ]
    }
   ],
   "source": [
    "arr1 = np.array ([3,4,6,2,20,22,33,11])\n",
    "print(np.sum(arr1))\n",
    "print(np.min(a))\n",
    "print(np.mean(a))\n",
    "print(np.cumsum(a))\n",
    "print(np.cumprod(a))"
   ]
  },
  {
   "cell_type": "code",
   "execution_count": 50,
   "id": "b1f348ad-fe4a-4aa5-9756-224f96fa966b",
   "metadata": {},
   "outputs": [
    {
     "name": "stdout",
     "output_type": "stream",
     "text": [
      "[[ 100  200  300  400]\n",
      " [ 100  600 1200 2400]]\n",
      "4300\n"
     ]
    }
   ],
   "source": [
    "a = (100,200,300,400)\n",
    "b= (1,3,4,6)\n",
    "price = np.array(a)\n",
    "qty = np.array (b)\n",
    "print (np.cumprod([price,qty], axis = 0))\n",
    "c = np.cumprod([price,qty], axis = 0)\n",
    "print (c[1].sum())"
   ]
  },
  {
   "cell_type": "code",
   "execution_count": null,
   "id": "0eb8a708-7a06-4d15-9198-8aacf8f4301b",
   "metadata": {},
   "outputs": [],
   "source": []
  }
 ],
 "metadata": {
  "kernelspec": {
   "display_name": "Python 3 (ipykernel)",
   "language": "python",
   "name": "python3"
  },
  "language_info": {
   "codemirror_mode": {
    "name": "ipython",
    "version": 3
   },
   "file_extension": ".py",
   "mimetype": "text/x-python",
   "name": "python",
   "nbconvert_exporter": "python",
   "pygments_lexer": "ipython3",
   "version": "3.12.1"
  }
 },
 "nbformat": 4,
 "nbformat_minor": 5
}

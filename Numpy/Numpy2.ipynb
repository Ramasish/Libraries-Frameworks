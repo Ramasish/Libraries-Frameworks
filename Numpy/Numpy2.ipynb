{
 "cells": [
  {
   "cell_type": "code",
   "execution_count": 7,
   "id": "d7bebf11-1ab9-4061-bf4c-dd4f6e7730f4",
   "metadata": {},
   "outputs": [
    {
     "name": "stdout",
     "output_type": "stream",
     "text": [
      "197.14285714285714\n",
      "170.0\n",
      "150\n",
      "62.2699849077239\n",
      "3877.551020408163\n"
     ]
    }
   ],
   "source": [
    "import numpy as np\n",
    "import statistics as stat\n",
    "baked_food = [200,300,150,150,130,280,170]\n",
    "a= np.array(baked_food)\n",
    "print(np.mean(a))\n",
    "print(np.median(a))\n",
    "print(stat.mode(a))\n",
    "print(np.std(a))\n",
    "print(np.var(a))\n"
   ]
  },
  {
   "cell_type": "code",
   "execution_count": 9,
   "id": "9da5c5e0-1fa1-4e60-8de6-3d70b028416e",
   "metadata": {},
   "outputs": [
    {
     "name": "stdout",
     "output_type": "stream",
     "text": [
      "[[1.         0.93397556]\n",
      " [0.93397556 1.        ]]\n"
     ]
    }
   ],
   "source": [
    "tobaco = [30,50,10,30,40,50]\n",
    "death = [100,120,70,100,120,112]\n",
    "print(np.corrcoef([tobaco,death]))"
   ]
  },
  {
   "cell_type": "code",
   "execution_count": null,
   "id": "c63f70d4-ebe6-4972-86f8-3dc459516957",
   "metadata": {},
   "outputs": [],
   "source": [
    "price = [300,100,350,150,200]\n",
    "sales =[10,20,7,17,3]\n",
    "\n"
   ]
  }
 ],
 "metadata": {
  "kernelspec": {
   "display_name": "Python 3 (ipykernel)",
   "language": "python",
   "name": "python3"
  },
  "language_info": {
   "codemirror_mode": {
    "name": "ipython",
    "version": 3
   },
   "file_extension": ".py",
   "mimetype": "text/x-python",
   "name": "python",
   "nbconvert_exporter": "python",
   "pygments_lexer": "ipython3",
   "version": "3.12.1"
  }
 },
 "nbformat": 4,
 "nbformat_minor": 5
}
